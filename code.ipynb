{
 "cells": [
  {
   "cell_type": "markdown",
   "id": "3875f05e",
   "metadata": {},
   "source": [
    "Ridge with Many Features – Car Price Prediction"
   ]
  },
  {
   "cell_type": "code",
   "execution_count": 24,
   "id": "ca6a623a",
   "metadata": {},
   "outputs": [
    {
     "name": "stdout",
     "output_type": "stream",
     "text": [
      "Best alpha (RidgeCV): 1.0\n"
     ]
    }
   ],
   "source": [
    "import pandas as pd\n",
    "from sklearn.linear_model import RidgeCV, Ridge\n",
    "from sklearn.linear_model import LinearRegression\n",
    "from sklearn.model_selection import train_test_split\n",
    "from sklearn.metrics import r2_score\n",
    "\n",
    "df = pd.read_csv(r\"C:\\Users\\kavin\\OneDrive\\Desktop\\New folder (4)\\cars_ridge (1).csv\")\n",
    "\n",
    "X = df[[\"mileage\", \"engine_size\", \"horsepower\", \"torque\", \"doors\", \"airbags\", \"weight\", \"fuel_efficiency\", \"brand_score\", \"luxury_index\"]]\n",
    "y = df[\"price_k\"]\n",
    "\n",
    "X_train, X_test, y_train, y_test = train_test_split(X, y, test_size=0.2, random_state=42)\n",
    "\n",
    "alphas = [0.01, 0.1, 1, 10, 100, 1000]\n",
    "ridge_cv = RidgeCV(alphas=alphas, store_cv_results=True)\n",
    "ridge_cv.fit(X_train, y_train)\n",
    "\n",
    "print(\"Best alpha (RidgeCV):\", ridge_cv.alpha_)\n"
   ]
  },
  {
   "cell_type": "code",
   "execution_count": 25,
   "id": "35093c8f",
   "metadata": {},
   "outputs": [
    {
     "name": "stdout",
     "output_type": "stream",
     "text": [
      "\n",
      "Ridge Regression\n",
      "Intercept: -0.5003705106588257\n",
      "Coefficients:\n",
      "  mileage: -0.0001\n",
      "  engine_size: 6.7261\n",
      "  horsepower: 0.0431\n",
      "  torque: 0.0180\n",
      "  doors: 1.6590\n",
      "  airbags: 0.8680\n",
      "  weight: 0.0074\n",
      "  fuel_efficiency: 0.0047\n",
      "  brand_score: 0.4391\n",
      "  luxury_index: 1.0643\n",
      "R² Score: 0.5125084558672846\n"
     ]
    }
   ],
   "source": [
    "ridge_final = Ridge(alpha=ridge_cv.alpha_)\n",
    "ridge_final.fit(X_train, y_train)\n",
    "\n",
    "y_pred_ridge = ridge_final.predict(X_test)\n",
    "r2_ridge = r2_score(y_test, y_pred_ridge)\n",
    "\n",
    "print(\"\\nRidge Regression\")\n",
    "print(\"Intercept:\", ridge_final.intercept_)\n",
    "print(\"Coefficients:\")\n",
    "for f, c in zip(X.columns, ridge_final.coef_):\n",
    "   print(f\"  {f}: {c:.4f}\")\n",
    "print(\"R² Score:\", r2_ridge)"
   ]
  },
  {
   "cell_type": "code",
   "execution_count": 27,
   "id": "ba138fad",
   "metadata": {},
   "outputs": [
    {
     "name": "stdout",
     "output_type": "stream",
     "text": [
      "\n",
      "Model Comparison\n",
      "OLS Intercept: -1.8466052202207948\n",
      "R² (OLS): 0.5132149040032674\n",
      "Ridge Intercept: -0.5003705106588257\n",
      "R² (Ridge): 0.5125084558672846\n",
      "\n",
      "Coefficient Comparison:\n",
      "\n",
      "        Feature       OLS     Ridge\n",
      "        mileage -0.000091 -0.000089\n",
      "    engine_size  8.212966  6.726084\n",
      "     horsepower  0.037466  0.043146\n",
      "         torque  0.013905  0.017957\n",
      "          doors  1.657190  1.658989\n",
      "        airbags  0.882403  0.868038\n",
      "         weight  0.006448  0.007448\n",
      "fuel_efficiency  0.067613  0.004674\n",
      "    brand_score  0.441532  0.439124\n",
      "   luxury_index  1.052694  1.064296\n"
     ]
    }
   ],
   "source": [
    "ols = LinearRegression().fit(X_train, y_train)\n",
    "r2_ols = r2_score(y_test, ols.predict(X_test))\n",
    "\n",
    "coef_df = pd.DataFrame({\n",
    "    \"Feature\": X.columns,\n",
    "    \"OLS\": ols.coef_,\n",
    "    \"Ridge\": ridge_final.coef_\n",
    "})\n",
    "\n",
    "print(\"\\nModel Comparison\")\n",
    "print(\"OLS Intercept:\", ols.intercept_)\n",
    "print(\"R² (OLS):\", r2_ols)\n",
    "print(\"Ridge Intercept:\", ridge_final.intercept_)\n",
    "print(\"R² (Ridge):\", r2_ridge)\n",
    "print(\"\\nCoefficient Comparison:\\n\")\n",
    "print(coef_df.to_string(index=False))\n",
    "\n"
   ]
  }
 ],
 "metadata": {
  "kernelspec": {
   "display_name": "Python (myenv)",
   "language": "python",
   "name": "myenv"
  },
  "language_info": {
   "codemirror_mode": {
    "name": "ipython",
    "version": 3
   },
   "file_extension": ".py",
   "mimetype": "text/x-python",
   "name": "python",
   "nbconvert_exporter": "python",
   "pygments_lexer": "ipython3",
   "version": "3.13.5"
  }
 },
 "nbformat": 4,
 "nbformat_minor": 5
}
